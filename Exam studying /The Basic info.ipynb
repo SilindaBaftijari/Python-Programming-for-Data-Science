{
 "cells": [
  {
   "cell_type": "markdown",
   "metadata": {},
   "source": [
    "# Main Python Data Types \n",
    "every value in Python is called an obejct, and every object has a specific data type. The hree most-used data types are as follows \n",
    "\n",
    "- Integers(int) - an integer number to represent an object such as number 3 \n",
    "    integers examples : -2, -1, 0, 1, 2, 3, 4, 5 \n",
    "\n",
    "- Floating point numbers(float) - use them to represent floating point numbers \n",
    "    floating point numbers : -1.25, -1.0, --0.5, 0.0, 0.5, 1.0, 1.25 \n",
    "\n",
    "- Strings - Codify a sequence of characters using a string, For example the word \"hello\". strings are immutable, if you already defined one, you cannot change it later on. while you can modify a string with commands such as \"replace()\" or join(), they will create a copy of a string and apply modification to it, rather than rewrite the original one. \n",
    "    strings : \"yo\", \"hey\", \"Hello!\", \"whats up!\" "
   ]
  },
  {
   "cell_type": "markdown",
   "metadata": {},
   "source": [
    "## How to create a string in python \n",
    "you can create a string in three ways using single, double or triple quotes. "
   ]
  },
  {
   "cell_type": "markdown",
   "metadata": {},
   "source": [
    "\n",
    "### Basig Python String "
   ]
  },
  {
   "cell_type": "code",
   "execution_count": null,
   "metadata": {},
   "outputs": [],
   "source": [
    "my_string = \"Lets learn python!\"\n",
    "another_string =\"it may seem difficult at first but you can do it!\" \n",
    "a_long_string = \"Yes, you can even master multi-line strings, that cover more than one line with some practice \""
   ]
  },
  {
   "cell_type": "markdown",
   "metadata": {},
   "source": [
    "The next step is to use the print function to output your string in the console window. This lets you review your code and ensure that all functions well. "
   ]
  },
  {
   "cell_type": "code",
   "execution_count": 5,
   "metadata": {},
   "outputs": [
    {
     "name": "stdout",
     "output_type": "stream",
     "text": [
      "lets print out a string!\n"
     ]
    }
   ],
   "source": [
    "print(\"lets print out a string!\")"
   ]
  },
  {
   "cell_type": "markdown",
   "metadata": {},
   "source": [
    "## String Concatenation \n",
    "The next thing you can master is concatenation - a way to add two things together using the \"+\" operator. Heres how its done: "
   ]
  },
  {
   "cell_type": "code",
   "execution_count": 7,
   "metadata": {},
   "outputs": [
    {
     "name": "stdout",
     "output_type": "stream",
     "text": [
      "i am readinga new great book!\n"
     ]
    }
   ],
   "source": [
    "string_one = \"i am reading\" \n",
    "string_two = \"a new great book!\" \n",
    "string_three = string_one + string_two \n",
    "print(string_three)"
   ]
  },
  {
   "cell_type": "markdown",
   "metadata": {},
   "source": [
    "## String Replication \n",
    "\n",
    "As the name implies, this command lets you repeat the same string several times. This is done using the * operator. Mind that this operator acts as a replicator only with the string data types. When applied to numbers it acts as a multiplier. \n",
    "\n",
    "String replication example: "
   ]
  },
  {
   "cell_type": "code",
   "execution_count": 8,
   "metadata": {},
   "outputs": [
    {
     "data": {
      "text/plain": [
       "'AliceAliceAliceAliceAlice'"
      ]
     },
     "execution_count": 8,
     "metadata": {},
     "output_type": "execute_result"
    }
   ],
   "source": [
    "'Alice' * 5 "
   ]
  },
  {
   "cell_type": "code",
   "execution_count": 9,
   "metadata": {},
   "outputs": [
    {
     "name": "stdout",
     "output_type": "stream",
     "text": [
      "AliceAliceAliceAliceAlice\n"
     ]
    }
   ],
   "source": [
    "print('Alice'*5)"
   ]
  },
  {
   "cell_type": "markdown",
   "metadata": {},
   "source": [
    "## Math Operators \n",
    "For reference heres a list of other math operations you can apply towards numbers \n",
    "\n",
    "| Operators | Operation | Example |\n",
    "| :- | -: | :-: |\n",
    "| ** | Exponent | 2 ** 3 = 8 |\n",
    "| % | Modulus/Remainder | 22 % 8 = 6 |\n",
    "|// | Integer division | 22 // 8 = 2 | \n",
    "| / | Division | 22 / 8 = 2.75 | \n",
    "| * | Multiplication | 3 * 3 = 9 | \n",
    "| - | Substraction | 5 - 2 = 3 | \n",
    "| + | Addition | 2 + 2 = 4 | \n",
    "\n",
    "\n"
   ]
  },
  {
   "cell_type": "markdown",
   "metadata": {},
   "source": [
    "## How to Store String in Variables \n",
    "\n",
    "Variables are special symbols that assign a specific storafe location to a value thats tied to it. In essence, variables are like special labels that you place on some value to know where its stored. \n",
    "\n",
    "Strings incorporate data. So you can \"pack\" them inside a variabel. Doing so makes it easier to work with complex Python programs. \n",
    "\n",
    "Heres how you can store a string inside a variable "
   ]
  },
  {
   "cell_type": "code",
   "execution_count": null,
   "metadata": {},
   "outputs": [],
   "source": [
    "my_str = \"hello world\""
   ]
  },
  {
   "cell_type": "markdown",
   "metadata": {},
   "source": [
    "Lets break it down a bit further \n",
    "- my_str is a variable name \n",
    "- = is the assignment operatior \n",
    "- \"just a random string\" is a value you tie to the variable name \n",
    "\n",
    "Now lets print this out, you receive the string output "
   ]
  },
  {
   "cell_type": "code",
   "execution_count": 11,
   "metadata": {},
   "outputs": [
    {
     "name": "stdout",
     "output_type": "stream",
     "text": [
      "hello world\n"
     ]
    }
   ],
   "source": [
    "my_str = \"hello world\"\n",
    "print(my_str)"
   ]
  },
  {
   "cell_type": "markdown",
   "metadata": {},
   "source": [
    "## Built-in Functions in Python \n",
    "\n",
    "You already know the most popular function in Python - print(). another popular one is input() \n"
   ]
  },
  {
   "cell_type": "markdown",
   "metadata": {},
   "source": [
    "### Input() function \n",
    "Input() function is a simple way to proomt the user for some input (e.g provide their name) all user input is stored as a string \n",
    "\n",
    "Snippet "
   ]
  },
  {
   "cell_type": "code",
   "execution_count": 12,
   "metadata": {},
   "outputs": [],
   "source": [
    "name = input(\"hi whats your name?\") \n",
    "print(\"nice to mee you\" + name + \"!\") \n",
    "\n",
    "age = input(\"how old are you\") \n",
    "print(\"so you are already \" + str(age)+\"years old,\"+ name + \"!\") "
   ]
  },
  {
   "cell_type": "markdown",
   "metadata": {},
   "source": [
    "### Len() Function \n",
    "\n",
    "Len() functions helps you find the length of any string, list, tuple, dictionary or another data type \n",
    "\n",
    "example :"
   ]
  },
  {
   "cell_type": "code",
   "execution_count": 1,
   "metadata": {},
   "outputs": [
    {
     "name": "stdout",
     "output_type": "stream",
     "text": [
      "The lenght of the string is: 39\n"
     ]
    }
   ],
   "source": [
    "#Testing len() \n",
    "str1 = \"This is an example for testing out len!\"\n",
    "print(\"The lenght of the string is:\", len(str1))"
   ]
  },
  {
   "cell_type": "markdown",
   "metadata": {},
   "source": [
    "### filter() \n",
    "You can use the filter function to exclude items in an iterable object ( lists, tuples, dictionaries ect.) \n",
    "exaple : "
   ]
  },
  {
   "cell_type": "code",
   "execution_count": 3,
   "metadata": {},
   "outputs": [
    {
     "name": "stdout",
     "output_type": "stream",
     "text": [
      "18\n",
      "24\n",
      "32\n"
     ]
    }
   ],
   "source": [
    "ages = [5, 12, 17, 18, 24, 32] \n",
    "\n",
    "def myFunc(x): \n",
    "    if x < 18:\n",
    "        return False\n",
    "    else: \n",
    "        return True\n",
    "\n",
    "adults = filter(myFunc, ages)\n",
    "\n",
    "for x in adults: \n",
    "    print(x)"
   ]
  },
  {
   "cell_type": "markdown",
   "metadata": {},
   "source": [
    "## How to Define a Function \n",
    "\n",
    "First use def keyword, followed by the functions name(). the parentheses can contain any parameters that your function should take or it can stay empty "
   ]
  },
  {
   "cell_type": "code",
   "execution_count": null,
   "metadata": {},
   "outputs": [],
   "source": [
    "def name():\n",
    "    print(\"whats your name\")"
   ]
  },
  {
   "cell_type": "code",
   "execution_count": null,
   "metadata": {},
   "outputs": [],
   "source": [
    "name.py \n",
    "def name(): \n",
    "        print(\"whats your name?\")\n",
    "name()"
   ]
  },
  {
   "cell_type": "markdown",
   "metadata": {},
   "source": [
    "Another example "
   ]
  },
  {
   "cell_type": "code",
   "execution_count": 4,
   "metadata": {},
   "outputs": [
    {
     "name": "stdout",
     "output_type": "stream",
     "text": [
      "3 4 5\n"
     ]
    }
   ],
   "source": [
    "def add_numbers(x, y ,z): \n",
    "    a = x + y \n",
    "    b = x + z \n",
    "    c = y + z \n",
    "    print (a, b, c) \n",
    "    \n",
    "add_numbers(1, 2, 3)"
   ]
  },
  {
   "cell_type": "markdown",
   "metadata": {},
   "source": [
    "## How to Pass a Keyword Arguments to a Function \n",
    "\n",
    "A function can accept keywords arguments, in this case you can sue paramters in random order as the python interpeter will use the provided keyworards to match the values to the parameters. \n",
    "\n",
    "Heres an example of how you pass a keywoard argument to a function."
   ]
  },
  {
   "cell_type": "code",
   "execution_count": 5,
   "metadata": {},
   "outputs": [
    {
     "name": "stdout",
     "output_type": "stream",
     "text": [
      "product name:white Tshirt:\n",
      "Price: 15\n",
      "product name:jeans\n",
      "Price: 45\n"
     ]
    }
   ],
   "source": [
    "#Define function with parameters \n",
    "def product_info(product_name, price): \n",
    "    print(\"product name:\" + product_name)\n",
    "    print(\"Price: \" + str(price))\n",
    "\n",
    "product_info(\"white Tshirt:\", 15)\n",
    "\n",
    "product_info(product_name =\"jeans\", price = 45)"
   ]
  },
  {
   "cell_type": "markdown",
   "metadata": {},
   "source": [
    "## List \n",
    "\n",
    "Lists are used to specify an ordered sequence of elements. \n",
    "Each value inside a list is called an item and these are placed between square brackets \n",
    "\n",
    "Example lists: "
   ]
  },
  {
   "cell_type": "code",
   "execution_count": 9,
   "metadata": {},
   "outputs": [
    {
     "name": "stdout",
     "output_type": "stream",
     "text": [
      "['1', '2', '3']\n"
     ]
    }
   ],
   "source": [
    "my_list = [1, 2, 3]\n",
    "my_list2 = [\"a\", \"b\", \"c\"] \n",
    "my_list3 = [\"4\", \"d\", \"book\",5]\n",
    "\n",
    "alpha_list = list((\"1\", \"2\",\"3\"))\n",
    "print(alpha_list)"
   ]
  },
  {
   "cell_type": "markdown",
   "metadata": {},
   "source": [
    "### How to Add Items to a List \n",
    "\n",
    "There are two ways \n",
    "\n",
    "First one: Using append() function "
   ]
  },
  {
   "cell_type": "code",
   "execution_count": 10,
   "metadata": {},
   "outputs": [
    {
     "name": "stdout",
     "output_type": "stream",
     "text": [
      "['apple', 'banana', 'orange', 'grape']\n"
     ]
    }
   ],
   "source": [
    "beta_list = [\"apple\", \"banana\", \"orange\"] \n",
    "beta_list.append(\"grape\")\n",
    "print(beta_list)"
   ]
  },
  {
   "cell_type": "markdown",
   "metadata": {},
   "source": [
    "Second method is by using insert(), insert add an item to a specific index "
   ]
  },
  {
   "cell_type": "code",
   "execution_count": 12,
   "metadata": {},
   "outputs": [
    {
     "name": "stdout",
     "output_type": "stream",
     "text": [
      "['apple', 'banana', 'grape', 'orange']\n"
     ]
    }
   ],
   "source": [
    "beta_list = [\"apple\", \"banana\", \"orange\"] \n",
    "beta_list.insert(2,\"grape\")\n",
    "print(beta_list)"
   ]
  },
  {
   "cell_type": "markdown",
   "metadata": {},
   "source": [
    "### How to Remove an Item from a List \n",
    "\n",
    "There are several ways to do it \n",
    "\n",
    "There is the remove() function"
   ]
  },
  {
   "cell_type": "code",
   "execution_count": 13,
   "metadata": {},
   "outputs": [
    {
     "name": "stdout",
     "output_type": "stream",
     "text": [
      "['banana', 'orange']\n"
     ]
    }
   ],
   "source": [
    "beta_list = [\"apple\", \"banana\", \"orange\"] \n",
    "beta_list.remove(\"apple\")\n",
    "print(beta_list)"
   ]
  },
  {
   "cell_type": "markdown",
   "metadata": {},
   "source": [
    "pop() function, if no index is specified, it will remove the last item "
   ]
  },
  {
   "cell_type": "code",
   "execution_count": 14,
   "metadata": {},
   "outputs": [
    {
     "name": "stdout",
     "output_type": "stream",
     "text": [
      "['apple', 'banana']\n"
     ]
    }
   ],
   "source": [
    "beta_list = [\"apple\", \"banana\", \"orange\"] \n",
    "beta_list.pop()\n",
    "print(beta_list)"
   ]
  },
  {
   "cell_type": "markdown",
   "metadata": {},
   "source": [
    "Last option is to use the del keyword to remove a specific item "
   ]
  },
  {
   "cell_type": "code",
   "execution_count": 15,
   "metadata": {},
   "outputs": [
    {
     "name": "stdout",
     "output_type": "stream",
     "text": [
      "['apple', 'orange']\n"
     ]
    }
   ],
   "source": [
    "beta_list = [\"apple\", \"banana\", \"orange\"] \n",
    "del beta_list [1]\n",
    "print(beta_list)"
   ]
  },
  {
   "cell_type": "markdown",
   "metadata": {},
   "source": [
    "### Combine Two Lists \n",
    "\n",
    "To mash up two lists use the + operator "
   ]
  },
  {
   "cell_type": "code",
   "execution_count": 18,
   "metadata": {},
   "outputs": [
    {
     "data": {
      "text/plain": [
       "[1, 2, 3, 'a', 'b', 'c']"
      ]
     },
     "execution_count": 18,
     "metadata": {},
     "output_type": "execute_result"
    }
   ],
   "source": [
    "my_list = [1,2,3]\n",
    "my_list2 = [\"a\", \"b\", \"c\"] \n",
    "combo_list = my_list + my_list2 \n",
    "combo_list"
   ]
  },
  {
   "cell_type": "markdown",
   "metadata": {},
   "source": [
    "### Create a Nested List "
   ]
  },
  {
   "cell_type": "code",
   "execution_count": 19,
   "metadata": {},
   "outputs": [
    {
     "data": {
      "text/plain": [
       "[[1, 2, 3], ['a', 'b', 'c']]"
      ]
     },
     "execution_count": 19,
     "metadata": {},
     "output_type": "execute_result"
    }
   ],
   "source": [
    "my_nested_list = [my_list, my_list2]\n",
    "my_nested_list"
   ]
  },
  {
   "cell_type": "markdown",
   "metadata": {},
   "source": [
    "### Sort a List \n",
    "Sort() to organize all items in your list "
   ]
  },
  {
   "cell_type": "code",
   "execution_count": 20,
   "metadata": {},
   "outputs": [
    {
     "data": {
      "text/plain": [
       "[1, 2, 23, 34, 56, 65, 121, 123, 234, 453]"
      ]
     },
     "execution_count": 20,
     "metadata": {},
     "output_type": "execute_result"
    }
   ],
   "source": [
    "alpha_list = [ 34, 23, 2, 56, 123, 453, 65,1,234, 121]\n",
    "alpha_list.sort() \n",
    "alpha_list"
   ]
  },
  {
   "cell_type": "markdown",
   "metadata": {},
   "source": [
    "### Slice a List \n",
    "When you want to call only a few elements from your list "
   ]
  },
  {
   "cell_type": "code",
   "execution_count": 24,
   "metadata": {},
   "outputs": [
    {
     "data": {
      "text/plain": [
       "[1, 2, 23, 34]"
      ]
     },
     "execution_count": 24,
     "metadata": {},
     "output_type": "execute_result"
    }
   ],
   "source": [
    "alpha_list[0:4] \n"
   ]
  },
  {
   "cell_type": "markdown",
   "metadata": {},
   "source": [
    "### Change Item Value on Your List "
   ]
  },
  {
   "cell_type": "code",
   "execution_count": 22,
   "metadata": {},
   "outputs": [
    {
     "name": "stdout",
     "output_type": "stream",
     "text": [
      "['apple', 'pear', 'orange']\n"
     ]
    }
   ],
   "source": [
    "beta_list = [\"apple\",\"banana\",\"orange\"] \n",
    "beta_list[1] = \"pear\"\n",
    "print(beta_list)"
   ]
  },
  {
   "cell_type": "markdown",
   "metadata": {},
   "source": [
    "### Loop Through the List "
   ]
  },
  {
   "cell_type": "code",
   "execution_count": 26,
   "metadata": {},
   "outputs": [
    {
     "name": "stdout",
     "output_type": "stream",
     "text": [
      "['apple', 'pear', 'orange', 'fruit', 'fruit', 'fruit', 'fruit']\n",
      "['apple', 'pear', 'orange', 'fruit', 'fruit', 'fruit', 'fruit', 'fruit']\n",
      "['apple', 'pear', 'orange', 'fruit', 'fruit', 'fruit', 'fruit', 'fruit', 'fruit']\n",
      "['apple', 'pear', 'orange', 'fruit', 'fruit', 'fruit', 'fruit', 'fruit', 'fruit', 'fruit']\n"
     ]
    }
   ],
   "source": [
    "for x in range (0,4): \n",
    "    beta_list += [\"fruit\"] \n",
    "    print(beta_list)"
   ]
  },
  {
   "cell_type": "markdown",
   "metadata": {},
   "source": [
    "### Copy a List \n",
    "\n",
    "use the copy() function to replicate data "
   ]
  },
  {
   "cell_type": "code",
   "execution_count": 27,
   "metadata": {},
   "outputs": [
    {
     "name": "stdout",
     "output_type": "stream",
     "text": [
      "['apple', 'banana', 'orange']\n"
     ]
    }
   ],
   "source": [
    "beta_list = [\"apple\",\"banana\",\"orange\"] \n",
    "beta_list = beta_list.copy()\n",
    "print(beta_list)"
   ]
  },
  {
   "cell_type": "markdown",
   "metadata": {},
   "source": [
    "or use list()"
   ]
  },
  {
   "cell_type": "code",
   "execution_count": 28,
   "metadata": {},
   "outputs": [
    {
     "name": "stdout",
     "output_type": "stream",
     "text": [
      "['apple', 'banana', 'orange']\n"
     ]
    }
   ],
   "source": [
    "beta_list = [\"apple\",\"banana\",\"orange\"] \n",
    "beta_list = list(beta_list)\n",
    "print(beta_list)"
   ]
  },
  {
   "cell_type": "markdown",
   "metadata": {},
   "source": [
    "### List Comprehensions \n",
    "\n",
    "examples: "
   ]
  },
  {
   "cell_type": "code",
   "execution_count": null,
   "metadata": {},
   "outputs": [],
   "source": [
    "list_variable = [x for x in iterable] \n",
    "\n",
    "#More complext example \n",
    "number_list = [x ** 2 for x in range(10) if x % 2 == 0]\n",
    "print(number_list)"
   ]
  },
  {
   "cell_type": "markdown",
   "metadata": {},
   "source": [
    "## Tuples\n",
    "\n",
    "Tuples are similiar to lists. \n",
    "\n",
    "### How to create a tuple"
   ]
  },
  {
   "cell_type": "code",
   "execution_count": 30,
   "metadata": {},
   "outputs": [
    {
     "data": {
      "text/plain": [
       "(1, 2, 3)"
      ]
     },
     "execution_count": 30,
     "metadata": {},
     "output_type": "execute_result"
    }
   ],
   "source": [
    "my_tuple = ( 1, 2, 3, 4, 5)\n",
    "my_tuple[0:3] "
   ]
  },
  {
   "cell_type": "markdown",
   "metadata": {},
   "source": [
    "### How to Slide a Tuple "
   ]
  },
  {
   "cell_type": "code",
   "execution_count": 31,
   "metadata": {},
   "outputs": [
    {
     "name": "stdout",
     "output_type": "stream",
     "text": [
      "(1, 3, 5, 7, 9)\n"
     ]
    }
   ],
   "source": [
    "numbers = (0, 1, 2, 3, 4, 5, 6, 7, 8, 9, 10, 11, 12)\n",
    "print(numbers[1:11:2])"
   ]
  },
  {
   "cell_type": "markdown",
   "metadata": {},
   "source": [
    "### Convert Tuple to a List \n",
    "\n",
    "Since Tuples are immutable, you can’t change them. What you can do though is convert a tuple into a list, make an edit and then convert it back to a tuple. "
   ]
  },
  {
   "cell_type": "code",
   "execution_count": 32,
   "metadata": {},
   "outputs": [
    {
     "name": "stdout",
     "output_type": "stream",
     "text": [
      "('apple', 'grape', 'pear')\n"
     ]
    }
   ],
   "source": [
    "x = (\"apple\",\"orange\",\"pear\")\n",
    "y= list(x)\n",
    "y[1] = \"grape\"\n",
    "x = tuple(y)\n",
    "print(x)"
   ]
  },
  {
   "cell_type": "markdown",
   "metadata": {},
   "source": [
    "## Dictionaries \n",
    "\n",
    "A dictionary holds indexes with keys that are mapped to certain values. These key-values pairs offer a great way of organizing and storing data in python. They are mutable, meaning you can change the stored information. \n",
    "Key value can be either a string, Boolean or intege. \n",
    "\n",
    "Examples: "
   ]
  },
  {
   "cell_type": "code",
   "execution_count": null,
   "metadata": {},
   "outputs": [],
   "source": [
    "Customer: 1= {'username': 'john-sea', 'online': false, 'friends':100}"
   ]
  },
  {
   "cell_type": "markdown",
   "metadata": {},
   "source": [
    "### How to create a pythong dictionary \n",
    "\n",
    "option 1 : new_dict{}\n",
    "option 2: other_dict = dict{} "
   ]
  },
  {
   "cell_type": "code",
   "execution_count": 33,
   "metadata": {},
   "outputs": [
    {
     "name": "stdout",
     "output_type": "stream",
     "text": [
      "{'brand': 'honda', 'model': 'civic', 'year': 1995}\n"
     ]
    }
   ],
   "source": [
    "new_dict = {\n",
    "    \"brand\": \"honda\",\n",
    "    \"model\": \"civic\",\n",
    "    \"year\": 1995\n",
    "}\n",
    "print(new_dict)"
   ]
  },
  {
   "cell_type": "markdown",
   "metadata": {},
   "source": [
    "### How to access a value in a dictionary \n",
    "\n",
    "You can access any of the values in your dictionary the following way: \n",
    "\n",
    "x = new_dict[\"brand\"]\n",
    "\n",
    "You can also use the following methods to accomplish the same\n",
    "- dict.keys() = isolates keys \n",
    "- dict.values() = isolates values \n",
    "- dict.items() = returns items in a list format of (key,value) tuple pairs. \n"
   ]
  },
  {
   "cell_type": "markdown",
   "metadata": {},
   "source": [
    "### Change Item Value\n",
    "\n",
    "To change one of the items, you need to refer to it by its key name: "
   ]
  },
  {
   "cell_type": "code",
   "execution_count": 34,
   "metadata": {},
   "outputs": [
    {
     "name": "stdout",
     "output_type": "stream",
     "text": [
      "{'brand': 'honda', 'model': 'civic', 'year': 2020}\n"
     ]
    }
   ],
   "source": [
    "#Change the year to 2020 \n",
    "\n",
    "new_dict = {\n",
    "    \"brand\": \"honda\",\n",
    "    \"model\": \"civic\",\n",
    "    \"year\": 1995\n",
    "}\n",
    "new_dict[\"year\"] = 2020\n",
    "print(new_dict)"
   ]
  },
  {
   "cell_type": "markdown",
   "metadata": {},
   "source": [
    "### Loop through the Dictionary \n",
    "\n",
    "To implement looping, use for loop command "
   ]
  },
  {
   "cell_type": "code",
   "execution_count": 35,
   "metadata": {},
   "outputs": [
    {
     "name": "stdout",
     "output_type": "stream",
     "text": [
      "brand\n",
      "model\n",
      "year\n",
      "honda\n",
      "civic\n",
      "2020\n",
      "brand honda\n",
      "model civic\n",
      "year 2020\n"
     ]
    }
   ],
   "source": [
    "#print all key names in the dictionary \n",
    "\n",
    "for x in new_dict: \n",
    "    print(x)\n",
    "    \n",
    "#print all values in the dictionary \n",
    "for x in new_dict:\n",
    "    print(new_dict[x])\n",
    "\n",
    "#loop through both keys and calues \n",
    "for x,y in new_dict.items():\n",
    "    print(x,y)"
   ]
  },
  {
   "cell_type": "markdown",
   "metadata": {},
   "source": [
    "## If Statements (Conditional Statements) in Python \n",
    "Just like other programming languages, Python supports the basic logical conditions from math:\n",
    "\n",
    "- Equals: a == b \n",
    "- Not equals: a != b \n",
    "- Less than: a < b \n",
    "- Less than or equal: a <= b \n",
    "- Greater than: a > b \n",
    "- Greater than or equal to: a >= b\n",
    "\n",
    "You can leverage these conditions in various ways. but most likely you'll use them in \"if statements\" and loops "
   ]
  },
  {
   "cell_type": "code",
   "execution_count": 37,
   "metadata": {},
   "outputs": [
    {
     "name": "stdout",
     "output_type": "stream",
     "text": [
      "thats true!\n",
      "above twenty\n",
      "and also above 30!\n"
     ]
    }
   ],
   "source": [
    "#If statement example \n",
    "\n",
    "if 5 > 1 : \n",
    "    print(\"thats true!\") \n",
    "    \n",
    "#Nested Statements \n",
    "x = 35 \n",
    "\n",
    "if x > 20:\n",
    "    print (\"above twenty\")\n",
    "    if x > 30 :\n",
    "        print(\"and also above 30!\")\n"
   ]
  },
  {
   "cell_type": "markdown",
   "metadata": {},
   "source": [
    "### Elif statements \n",
    "\n",
    "elif keyword promtps your program to try another condition if the previous one(s) was not true. "
   ]
  },
  {
   "cell_type": "code",
   "execution_count": 39,
   "metadata": {},
   "outputs": [
    {
     "name": "stdout",
     "output_type": "stream",
     "text": [
      "a and b are equal\n"
     ]
    }
   ],
   "source": [
    "a = 45 \n",
    "b = 45 \n",
    "if b > a: \n",
    "    print( \"b is greater than a\") \n",
    "elif a == b: \n",
    "    print(\"a and b are equal\")\n"
   ]
  },
  {
   "cell_type": "markdown",
   "metadata": {},
   "source": [
    "### If else statements \n",
    "\n",
    "else keywoard helps you add some additional filters to your condition clause. Heres and if-elif-else example "
   ]
  },
  {
   "cell_type": "code",
   "execution_count": 44,
   "metadata": {},
   "outputs": [
    {
     "name": "stdout",
     "output_type": "stream",
     "text": [
      "15\n"
     ]
    }
   ],
   "source": [
    "age = 20 \n",
    "\n",
    "if age < 4: \n",
    "    ticket_price = 0 \n",
    "elif age < 18:\n",
    "    ticket_price = 10\n",
    "else: ticket_price = 15  \n",
    "\n",
    "print(ticket_price)"
   ]
  },
  {
   "cell_type": "markdown",
   "metadata": {},
   "source": [
    "### If-Not-Statements \n",
    "\n",
    "Not keywoards lets you check for the opposite meaning to veriy wether the valuse is NOT true. "
   ]
  },
  {
   "cell_type": "code",
   "execution_count": 45,
   "metadata": {},
   "outputs": [
    {
     "name": "stdout",
     "output_type": "stream",
     "text": [
      "x is not on the list, so this is true!\n"
     ]
    }
   ],
   "source": [
    "new_list = [1, 2, 3, 4]\n",
    "x = 10 \n",
    "if x not in new_list: \n",
    "    print(\"x is not on the list, so this is true!\")"
   ]
  },
  {
   "cell_type": "markdown",
   "metadata": {},
   "source": [
    "### Pass Statements \n",
    "\n",
    "If statements cant be empty. But if thats your case, add the pass statement to avoid having and error: "
   ]
  },
  {
   "cell_type": "code",
   "execution_count": 46,
   "metadata": {},
   "outputs": [],
   "source": [
    "a = 33 \n",
    "b = 200 \n",
    "\n",
    "if b > a: \n",
    "    pass"
   ]
  },
  {
   "cell_type": "markdown",
   "metadata": {},
   "source": [
    "# Python Loops \n",
    "\n",
    "Python has two simple loop commands that are good to know: \n",
    "- for loops \n",
    "- while loops "
   ]
  },
  {
   "cell_type": "markdown",
   "metadata": {},
   "source": [
    "### For loop \n",
    "\n",
    "for loop is a handy way for iteratin over a sequence such as a list, tuple, dictionary string, ect. \n",
    "\n",
    "example showing how to loop through a stirng "
   ]
  },
  {
   "cell_type": "code",
   "execution_count": 47,
   "metadata": {},
   "outputs": [
    {
     "name": "stdout",
     "output_type": "stream",
     "text": [
      "a\n",
      "p\n",
      "p\n",
      "l\n",
      "e\n"
     ]
    }
   ],
   "source": [
    "for x in \"apple\": \n",
    "    print(x)"
   ]
  },
  {
   "cell_type": "markdown",
   "metadata": {},
   "source": [
    "### While Loops \n",
    "\n",
    "While loops enables you to execute a set of statements as long as the condition for them is true "
   ]
  },
  {
   "cell_type": "code",
   "execution_count": 55,
   "metadata": {},
   "outputs": [
    {
     "name": "stdout",
     "output_type": "stream",
     "text": [
      "e\n",
      "e\n",
      "e\n",
      "e\n",
      "e\n",
      "e\n",
      "e\n"
     ]
    }
   ],
   "source": [
    "#print as long as x is less than 8 \n",
    "\n",
    "i = 1 \n",
    "while i< 8: \n",
    "    print(x)\n",
    "    i += 1"
   ]
  },
  {
   "cell_type": "markdown",
   "metadata": {},
   "source": [
    "### How to break a loop \n",
    "\n",
    "you can stop the loop from running even if the conditions is met: for that use the break statement both in while and for loops. \n"
   ]
  },
  {
   "cell_type": "code",
   "execution_count": 53,
   "metadata": {},
   "outputs": [
    {
     "name": "stdout",
     "output_type": "stream",
     "text": [
      "1\n",
      "2\n",
      "3\n",
      "4\n"
     ]
    }
   ],
   "source": [
    "i = 1 \n",
    "while i < 8: \n",
    "    print(i)\n",
    "    if i == 4:\n",
    "        break\n",
    "    i += 1"
   ]
  },
  {
   "cell_type": "markdown",
   "metadata": {},
   "source": [
    "# Class \n",
    "\n",
    "Since Python is an object-oriented programming language almost every element of it is an object — with its methods and properties.\n",
    "Class acts as a blueprint for creating different objects. Objects are an instance of a class, where the class is manifested in some program."
   ]
  },
  {
   "cell_type": "markdown",
   "metadata": {},
   "source": [
    "### How to create a class "
   ]
  },
  {
   "cell_type": "code",
   "execution_count": null,
   "metadata": {},
   "outputs": [],
   "source": [
    "class TestClass: \n",
    "    z = 5"
   ]
  },
  {
   "cell_type": "markdown",
   "metadata": {},
   "source": [
    "### How to create an object "
   ]
  },
  {
   "cell_type": "code",
   "execution_count": 58,
   "metadata": {},
   "outputs": [
    {
     "name": "stdout",
     "output_type": "stream",
     "text": [
      "5\n"
     ]
    }
   ],
   "source": [
    "class TestClass: \n",
    "    z = 5\n",
    "\n",
    "p1 = TestClass()\n",
    "print(p1.z)"
   ]
  },
  {
   "cell_type": "markdown",
   "metadata": {},
   "source": [
    "Further, you can assign different attributes and methods to your object. The example is below:"
   ]
  },
  {
   "cell_type": "code",
   "execution_count": 59,
   "metadata": {},
   "outputs": [],
   "source": [
    "class car(object): \n",
    "    #docstring \n",
    "    def __init__(self, color, doors,tires): \n",
    "        #Contructor \n",
    "        self.color = color \n",
    "        self.doors = doors \n",
    "        self.tires = tires \n",
    "    \n",
    "    def brake(self): \n",
    "        #stop the car \n",
    "        return \"braking\"\n",
    "    \n",
    "    def drive(self):\n",
    "        #dribe the car \n",
    "        return \"i am driving!\" "
   ]
  },
  {
   "cell_type": "markdown",
   "metadata": {},
   "source": [
    "### How to create a subclass \n",
    "\n",
    "Every object can be further sub-classified. Here’s an example"
   ]
  },
  {
   "cell_type": "code",
   "execution_count": null,
   "metadata": {},
   "outputs": [],
   "source": [
    "class car(vehicle):\n",
    "    class car(object): \n",
    "    #docstring \n",
    "        def __init__(self, color, doors,tires): \n",
    "            #Contructor \n",
    "            self.color = color \n",
    "            self.doors = doors \n",
    "            self.tires = tires \n",
    "        \n",
    "        def brake(self): \n",
    "            #stop the car \n",
    "            return \"braking\"\n",
    "        \n",
    "        def drive(self):\n",
    "            #dribe the car \n",
    "            return \"i am driving!\" \n",
    "        \n",
    "    if __name__ == \"__main__\":\n",
    "        car = car(\"yellow\", 2 , 4, \"car\")\n",
    "        car.brake() \n",
    "        \"the car class is breaking slowly!\"\n",
    "        car.drive()\n",
    "        \"i am driving a yellow car!\"\n",
    "    "
   ]
  },
  {
   "cell_type": "markdown",
   "metadata": {},
   "source": [
    "# Dealing with python exceptions (errors)\n",
    "\n",
    "Python has a list of in-built exceptions (errors) that will pop up whenever you make a mistake in your code. As a newbie, it’s good to know how to fix these. \n",
    "\n",
    "## The Most Common Python Exceptions\n",
    "\n",
    "-  AttributeError — pops up when an attribute reference or assignment fails.\n",
    "- IOError — emerges when some I/O operation (e.g. an open() function) fails\n",
    "for an I/O-related reason, e.g., “file not found” or “disk full\n",
    "- ImportError — comes up when an import statement cannot locate the module definition. Also, when a from... import can’t find a name that must be imported. \n",
    "- IndexError — emerges when a sequence subscript is out of range.\n",
    "- KeyError — raised when a dictionary key isn’t found in the set of existing keys. \n",
    "- KeyboardInterrupt — lights up when the user hits the interrupt key (such as Control-C or Delete). \n",
    "- NameError — shows up when a local or global name can’t be found. \n",
    "- OSError — indicated a system-related error.\n",
    "- SyntaxError — pops up when a parser encounters a syntax error. \n",
    "- TypeError — comes up when an operation or function is applied to an object of inappropriate type. \n",
    "- ValueError — raised when a built-in operation/function gets an argument that has the right type but not an appropriate value, and the situation is not described by a more precise exception such as IndexError. \n",
    "- ZeroDivisionError — emerges when the second argument of a division or modulo operation is zero. "
   ]
  },
  {
   "cell_type": "markdown",
   "metadata": {},
   "source": [
    "## How to Troubleshoot the Errors \n",
    "Python has a useful statement, design just for the purpose of handling exceptions — try/except statement. \n",
    "Here’s a code snippet showing how you can catch KeyErrors in a dictionary using this statement: "
   ]
  },
  {
   "cell_type": "code",
   "execution_count": 60,
   "metadata": {},
   "outputs": [
    {
     "name": "stdout",
     "output_type": "stream",
     "text": [
      "that key does not exist\n"
     ]
    }
   ],
   "source": [
    "my_dict = {\"a\":1, \"b\":2, \"c\":3}\n",
    "try: \n",
    "        value = my_dict[\"d\"]\n",
    "except KeyError:\n",
    "    print(\"that key does not exist\")"
   ]
  },
  {
   "cell_type": "markdown",
   "metadata": {},
   "source": [
    "You can also detect several exceptions at once with a single statement. Here’s an example for that:"
   ]
  },
  {
   "cell_type": "code",
   "execution_count": 61,
   "metadata": {},
   "outputs": [
    {
     "name": "stdout",
     "output_type": "stream",
     "text": [
      "This key does not exist\n"
     ]
    }
   ],
   "source": [
    "my_dict = {\"a\":1, \"b\":2, \"c\":3}\n",
    "try: \n",
    "    value = my_dict[\"d\"]\n",
    "except IndexError: \n",
    "    print(\"this index does not exist\")\n",
    "except KeyError: \n",
    "    print(\"This key does not exist\")\n",
    "except: \n",
    "    print(\"some other problem happend\")"
   ]
  },
  {
   "cell_type": "markdown",
   "metadata": {},
   "source": [
    "### try/exepct with else clause \n",
    "\n",
    "Adding an els caluse will help you confirm that no erros were found: "
   ]
  },
  {
   "cell_type": "code",
   "execution_count": 1,
   "metadata": {},
   "outputs": [
    {
     "name": "stdout",
     "output_type": "stream",
     "text": [
      "no error occured!\n"
     ]
    }
   ],
   "source": [
    "my_dict = {\"a\":1, \"b\":2, \"c\":3}\n",
    "try: \n",
    "    value = my_dict[\"a\"]\n",
    "except KeyError:\n",
    "    print(\"a keyerror occured!\")\n",
    "else:\n",
    "    print(\"no error occured!\")"
   ]
  }
 ],
 "metadata": {
  "kernelspec": {
   "display_name": "Python 3.9.13 ('base')",
   "language": "python",
   "name": "python3"
  },
  "language_info": {
   "codemirror_mode": {
    "name": "ipython",
    "version": 3
   },
   "file_extension": ".py",
   "mimetype": "text/x-python",
   "name": "python",
   "nbconvert_exporter": "python",
   "pygments_lexer": "ipython3",
   "version": "3.9.13"
  },
  "orig_nbformat": 4,
  "vscode": {
   "interpreter": {
    "hash": "7c9459ed114c5b17f42de1a9d08fe33e74f39cfbcb6ece8051ae4de86a3c1d74"
   }
  }
 },
 "nbformat": 4,
 "nbformat_minor": 2
}
