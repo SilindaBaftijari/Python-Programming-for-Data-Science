{
 "cells": [
  {
   "cell_type": "markdown",
   "metadata": {},
   "source": [
    "# Main Python Data Types \n",
    "every value in Python is called an obejct, and every object has a specific data type. The hree most-used data types are as follows \n",
    "\n",
    "- Integers(int) - an integer number to represent an object such as number 3 \n",
    "    integers examples : -2, -1, 0, 1, 2, 3, 4, 5 \n",
    "\n",
    "- Floating point numbers(float) - use them to represent floating point numbers \n",
    "    floating point numbers : -1.25, -1.0, --0.5, 0.0, 0.5, 1.0, 1.25 \n",
    "\n",
    "- Strings - Codify a sequence of characters using a string, For example the word \"hello\". strings are immutable, if you already defined one, you cannot change it later on. while you can modify a string with commands such as \"replace()\" or join(), they will create a copy of a string and apply modification to it, rather than rewrite the original one. \n",
    "    strings : \"yo\", \"hey\", \"Hello!\", \"whats up!\" "
   ]
  },
  {
   "cell_type": "markdown",
   "metadata": {},
   "source": [
    "## How to create a string in python \n",
    "you can create a string in three ways using single, double or triple quotes. "
   ]
  },
  {
   "cell_type": "markdown",
   "metadata": {},
   "source": [
    "\n",
    "### Basig Python String "
   ]
  },
  {
   "cell_type": "code",
   "execution_count": null,
   "metadata": {},
   "outputs": [],
   "source": [
    "my_string = \"Lets learn python!\"\n",
    "another_string =\"it may seem difficult at first but you can do it!\" \n",
    "a_long_string = \"Yes, you can even master multi-line strings, that cover more than one line with some practice \""
   ]
  },
  {
   "cell_type": "markdown",
   "metadata": {},
   "source": [
    "The next step is to use the print function to output your string in the console window. This lets you review your code and ensure that all functions well. "
   ]
  },
  {
   "cell_type": "code",
   "execution_count": 5,
   "metadata": {},
   "outputs": [
    {
     "name": "stdout",
     "output_type": "stream",
     "text": [
      "lets print out a string!\n"
     ]
    }
   ],
   "source": [
    "print(\"lets print out a string!\")"
   ]
  },
  {
   "cell_type": "markdown",
   "metadata": {},
   "source": [
    "## String Concatenation \n",
    "The next thing you can master is concatenation - a way to add two things together using the \"+\" operator. Heres how its done: "
   ]
  },
  {
   "cell_type": "code",
   "execution_count": 7,
   "metadata": {},
   "outputs": [
    {
     "name": "stdout",
     "output_type": "stream",
     "text": [
      "i am readinga new great book!\n"
     ]
    }
   ],
   "source": [
    "string_one = \"i am reading\" \n",
    "string_two = \"a new great book!\" \n",
    "string_three = string_one + string_two \n",
    "print(string_three)"
   ]
  },
  {
   "cell_type": "markdown",
   "metadata": {},
   "source": [
    "## String Replication \n",
    "\n",
    "As the name implies, this command lets you repeat the same string several times. This is done using the * operator. Mind that this operator acts as a replicator only with the string data types. When applied to numbers it acts as a multiplier. \n",
    "\n",
    "String replication example: "
   ]
  },
  {
   "cell_type": "code",
   "execution_count": 8,
   "metadata": {},
   "outputs": [
    {
     "data": {
      "text/plain": [
       "'AliceAliceAliceAliceAlice'"
      ]
     },
     "execution_count": 8,
     "metadata": {},
     "output_type": "execute_result"
    }
   ],
   "source": [
    "'Alice' * 5 "
   ]
  },
  {
   "cell_type": "code",
   "execution_count": 9,
   "metadata": {},
   "outputs": [
    {
     "name": "stdout",
     "output_type": "stream",
     "text": [
      "AliceAliceAliceAliceAlice\n"
     ]
    }
   ],
   "source": [
    "print('Alice'*5)"
   ]
  },
  {
   "cell_type": "markdown",
   "metadata": {},
   "source": [
    "## Math Operators \n",
    "For reference heres a list of other math operations you can apply towards numbers \n",
    "\n",
    "| Operators | Operation | Example |\n",
    "| :- | -: | :-: |\n",
    "| ** | Exponent | 2 ** 3 = 8 |\n",
    "| % | Modulus/Remainder | 22 % 8 = 6 |\n",
    "|// | Integer division | 22 // 8 = 2 | \n",
    "| / | Division | 22 / 8 = 2.75 | \n",
    "| * | Multiplication | 3 * 3 = 9 | \n",
    "| - | Substraction | 5 - 2 = 3 | \n",
    "| + | Addition | 2 + 2 = 4 | \n",
    "\n",
    "\n"
   ]
  },
  {
   "cell_type": "markdown",
   "metadata": {},
   "source": [
    "## How to Store String in Variables \n",
    "\n",
    "Variables are special symbols that assign a specific storafe location to a value thats tied to it. In essence, variables are like special labels that you place on some value to know where its stored. \n",
    "\n",
    "Strings incorporate data. So you can \"pack\" them inside a variabel. Doing so makes it easier to work with complex Python programs. \n",
    "\n",
    "Heres how you can store a string inside a variable "
   ]
  },
  {
   "cell_type": "code",
   "execution_count": null,
   "metadata": {},
   "outputs": [],
   "source": [
    "my_str = \"hello world\""
   ]
  },
  {
   "cell_type": "markdown",
   "metadata": {},
   "source": [
    "Lets break it down a bit further \n",
    "- my_str is a variable name \n",
    "- = is the assignment operatior \n",
    "- \"just a random string\" is a value you tie to the variable name \n",
    "\n",
    "Now lets print this out, you receive the string output "
   ]
  },
  {
   "cell_type": "code",
   "execution_count": 11,
   "metadata": {},
   "outputs": [
    {
     "name": "stdout",
     "output_type": "stream",
     "text": [
      "hello world\n"
     ]
    }
   ],
   "source": [
    "my_str = \"hello world\"\n",
    "print(my_str)"
   ]
  },
  {
   "cell_type": "markdown",
   "metadata": {},
   "source": [
    "## Built-in Functions in Python \n",
    "\n",
    "You already know the most popular function in Python - print(). another popular one is input() \n"
   ]
  },
  {
   "cell_type": "markdown",
   "metadata": {},
   "source": [
    "### Input() function \n",
    "Input() function is a simple way to proomt the user for some input (e.g provide their name) all user input is stored as a string \n",
    "\n",
    "Snippet "
   ]
  },
  {
   "cell_type": "code",
   "execution_count": 12,
   "metadata": {},
   "outputs": [],
   "source": [
    "name = input(\"hi whats your name?\") \n",
    "print(\"nice to mee you\" + name + \"!\") \n",
    "\n",
    "age = input(\"how old are you\") \n",
    "print(\"so you are already \" + str(age)+\"years old,\"+ name + \"!\") "
   ]
  },
  {
   "cell_type": "markdown",
   "metadata": {},
   "source": [
    "### Len() Function \n",
    "\n",
    "Len() functions helps you find the length of any string, list, tuple, dictionary or another data type \n",
    "\n",
    "example :"
   ]
  },
  {
   "cell_type": "code",
   "execution_count": 1,
   "metadata": {},
   "outputs": [
    {
     "name": "stdout",
     "output_type": "stream",
     "text": [
      "The lenght of the string is: 39\n"
     ]
    }
   ],
   "source": [
    "#Testing len() \n",
    "str1 = \"This is an example for testing out len!\"\n",
    "print(\"The lenght of the string is:\", len(str1))"
   ]
  },
  {
   "cell_type": "markdown",
   "metadata": {},
   "source": [
    "### filter() \n",
    "You can use the filter function to exclude items in an iterable object ( lists, tuples, dictionaries ect.) \n",
    "exaple : "
   ]
  },
  {
   "cell_type": "code",
   "execution_count": 3,
   "metadata": {},
   "outputs": [
    {
     "name": "stdout",
     "output_type": "stream",
     "text": [
      "18\n",
      "24\n",
      "32\n"
     ]
    }
   ],
   "source": [
    "ages = [5, 12, 17, 18, 24, 32] \n",
    "\n",
    "def myFunc(x): \n",
    "    if x < 18:\n",
    "        return False\n",
    "    else: \n",
    "        return True\n",
    "\n",
    "adults = filter(myFunc, ages)\n",
    "\n",
    "for x in adults: \n",
    "    print(x)"
   ]
  },
  {
   "cell_type": "markdown",
   "metadata": {},
   "source": [
    "## How to Define a Function \n",
    "\n",
    "First use def keyword, followed by the functions name(). the parentheses can contain any parameters that your function should take or it can stay empty "
   ]
  },
  {
   "cell_type": "code",
   "execution_count": null,
   "metadata": {},
   "outputs": [],
   "source": [
    "def name():"
   ]
  },
  {
   "cell_type": "code",
   "execution_count": null,
   "metadata": {},
   "outputs": [],
   "source": [
    "def name():\n",
    "    print(\"whats your name\")"
   ]
  },
  {
   "cell_type": "code",
   "execution_count": null,
   "metadata": {},
   "outputs": [],
   "source": [
    "name.py \n",
    "def name(): \n",
    "        print(\"whats your name?\")\n",
    "name()"
   ]
  },
  {
   "cell_type": "markdown",
   "metadata": {},
   "source": [
    "Another example "
   ]
  },
  {
   "cell_type": "code",
   "execution_count": 4,
   "metadata": {},
   "outputs": [
    {
     "name": "stdout",
     "output_type": "stream",
     "text": [
      "3 4 5\n"
     ]
    }
   ],
   "source": [
    "def add_numbers(x, y ,z): \n",
    "    a = x + y \n",
    "    b = x + z \n",
    "    c = y + z \n",
    "    print (a, b, c) \n",
    "    \n",
    "add_numbers(1, 2, 3)"
   ]
  },
  {
   "cell_type": "markdown",
   "metadata": {},
   "source": [
    "## How to Pass a Keyword Arguments to a Function \n",
    "\n",
    "A function can accept keywords arguments, in this case you can sue paramters in random order as the python interpeter will use the provided keyworards to match the values to the parameters. \n",
    "\n",
    "Heres an example of how you pass a keywoard argument to a function."
   ]
  },
  {
   "cell_type": "code",
   "execution_count": 5,
   "metadata": {},
   "outputs": [
    {
     "name": "stdout",
     "output_type": "stream",
     "text": [
      "product name:white Tshirt:\n",
      "Price: 15\n",
      "product name:jeans\n",
      "Price: 45\n"
     ]
    }
   ],
   "source": [
    "#Define function with parameters \n",
    "def product_info(product_name, price): \n",
    "    print(\"product name:\" + product_name)\n",
    "    print(\"Price: \" + str(price))\n",
    "\n",
    "product_info(\"white Tshirt:\", 15)\n",
    "\n",
    "product_info(product_name =\"jeans\", price = 45)"
   ]
  },
  {
   "cell_type": "markdown",
   "metadata": {},
   "source": [
    "## List \n",
    "\n",
    "Lists are used to specify an ordered sequence of elements. \n",
    "Each value inside a list is called an item and these are placed between square brackets \n",
    "\n",
    "Example lists: "
   ]
  },
  {
   "cell_type": "code",
   "execution_count": 9,
   "metadata": {},
   "outputs": [
    {
     "name": "stdout",
     "output_type": "stream",
     "text": [
      "['1', '2', '3']\n"
     ]
    }
   ],
   "source": [
    "my_list = [1, 2, 3]\n",
    "my_list2 = [\"a\", \"b\", \"c\"] \n",
    "my_list3 = [\"4\", \"d\", \"book\",5]\n",
    "\n",
    "alpha_list = list((\"1\", \"2\",\"3\"))\n",
    "print(alpha_list)"
   ]
  },
  {
   "cell_type": "markdown",
   "metadata": {},
   "source": [
    "### How to Add Items to a List \n",
    "\n",
    "There are two ways \n",
    "\n",
    "First one: Using append() function "
   ]
  },
  {
   "cell_type": "code",
   "execution_count": 10,
   "metadata": {},
   "outputs": [
    {
     "name": "stdout",
     "output_type": "stream",
     "text": [
      "['apple', 'banana', 'orange', 'grape']\n"
     ]
    }
   ],
   "source": [
    "beta_list = [\"apple\", \"banana\", \"orange\"] \n",
    "beta_list.append(\"grape\")\n",
    "print(beta_list)"
   ]
  },
  {
   "cell_type": "markdown",
   "metadata": {},
   "source": [
    "Second method is by using insert(), insert add an item to a specific index "
   ]
  },
  {
   "cell_type": "code",
   "execution_count": 12,
   "metadata": {},
   "outputs": [
    {
     "name": "stdout",
     "output_type": "stream",
     "text": [
      "['apple', 'banana', 'grape', 'orange']\n"
     ]
    }
   ],
   "source": [
    "beta_list = [\"apple\", \"banana\", \"orange\"] \n",
    "beta_list.insert(2,\"grape\")\n",
    "print(beta_list)"
   ]
  },
  {
   "cell_type": "markdown",
   "metadata": {},
   "source": [
    "### How to Remove an Item from a List \n",
    "\n",
    "There are several ways to do it \n",
    "\n",
    "There is the remove() function"
   ]
  },
  {
   "cell_type": "code",
   "execution_count": 13,
   "metadata": {},
   "outputs": [
    {
     "name": "stdout",
     "output_type": "stream",
     "text": [
      "['banana', 'orange']\n"
     ]
    }
   ],
   "source": [
    "beta_list = [\"apple\", \"banana\", \"orange\"] \n",
    "beta_list.remove(\"apple\")\n",
    "print(beta_list)"
   ]
  },
  {
   "cell_type": "markdown",
   "metadata": {},
   "source": [
    "pop() function, if no index is specified, it will remove the last item "
   ]
  },
  {
   "cell_type": "code",
   "execution_count": 14,
   "metadata": {},
   "outputs": [
    {
     "name": "stdout",
     "output_type": "stream",
     "text": [
      "['apple', 'banana']\n"
     ]
    }
   ],
   "source": [
    "beta_list = [\"apple\", \"banana\", \"orange\"] \n",
    "beta_list.pop()\n",
    "print(beta_list)"
   ]
  },
  {
   "cell_type": "markdown",
   "metadata": {},
   "source": [
    "Last option is to use the del keyword to remove a specific item "
   ]
  },
  {
   "cell_type": "code",
   "execution_count": 15,
   "metadata": {},
   "outputs": [
    {
     "name": "stdout",
     "output_type": "stream",
     "text": [
      "['apple', 'orange']\n"
     ]
    }
   ],
   "source": [
    "beta_list = [\"apple\", \"banana\", \"orange\"] \n",
    "del beta_list [1]\n",
    "print(beta_list)"
   ]
  },
  {
   "cell_type": "markdown",
   "metadata": {},
   "source": [
    "### Combine Two Lists \n",
    "\n",
    "To mash up two lists use the + operator "
   ]
  },
  {
   "cell_type": "code",
   "execution_count": 18,
   "metadata": {},
   "outputs": [
    {
     "data": {
      "text/plain": [
       "[1, 2, 3, 'a', 'b', 'c']"
      ]
     },
     "execution_count": 18,
     "metadata": {},
     "output_type": "execute_result"
    }
   ],
   "source": [
    "my_list = [1,2,3]\n",
    "my_list2 = [\"a\", \"b\", \"c\"] \n",
    "combo_list = my_list + my_list2 \n",
    "combo_list"
   ]
  },
  {
   "cell_type": "markdown",
   "metadata": {},
   "source": [
    "### Create a Nested List "
   ]
  },
  {
   "cell_type": "code",
   "execution_count": 19,
   "metadata": {},
   "outputs": [
    {
     "data": {
      "text/plain": [
       "[[1, 2, 3], ['a', 'b', 'c']]"
      ]
     },
     "execution_count": 19,
     "metadata": {},
     "output_type": "execute_result"
    }
   ],
   "source": [
    "my_nested_list = [my_list, my_list2]\n",
    "my_nested_list"
   ]
  },
  {
   "cell_type": "markdown",
   "metadata": {},
   "source": [
    "### Sort a List \n",
    "Sort() to organize all items in your list "
   ]
  },
  {
   "cell_type": "code",
   "execution_count": 20,
   "metadata": {},
   "outputs": [
    {
     "data": {
      "text/plain": [
       "[1, 2, 23, 34, 56, 65, 121, 123, 234, 453]"
      ]
     },
     "execution_count": 20,
     "metadata": {},
     "output_type": "execute_result"
    }
   ],
   "source": [
    "alpha_list = [ 34, 23, 2, 56, 123, 453, 65,1,234, 121]\n",
    "alpha_list.sort() \n",
    "alpha_list"
   ]
  },
  {
   "cell_type": "markdown",
   "metadata": {},
   "source": [
    "### Slice a List \n",
    "When you want to call only a few elements from your list "
   ]
  },
  {
   "cell_type": "code",
   "execution_count": 24,
   "metadata": {},
   "outputs": [
    {
     "data": {
      "text/plain": [
       "[1, 2, 23, 34]"
      ]
     },
     "execution_count": 24,
     "metadata": {},
     "output_type": "execute_result"
    }
   ],
   "source": [
    "alpha_list[0:4] \n"
   ]
  },
  {
   "cell_type": "markdown",
   "metadata": {},
   "source": [
    "### Change Item Value on Your List "
   ]
  },
  {
   "cell_type": "code",
   "execution_count": 22,
   "metadata": {},
   "outputs": [
    {
     "name": "stdout",
     "output_type": "stream",
     "text": [
      "['apple', 'pear', 'orange']\n"
     ]
    }
   ],
   "source": [
    "beta_list = [\"apple\",\"banana\",\"orange\"] \n",
    "beta_list[1] = \"pear\"\n",
    "print(beta_list)"
   ]
  },
  {
   "cell_type": "markdown",
   "metadata": {},
   "source": [
    "### Loop Through the List "
   ]
  },
  {
   "cell_type": "code",
   "execution_count": 26,
   "metadata": {},
   "outputs": [
    {
     "name": "stdout",
     "output_type": "stream",
     "text": [
      "['apple', 'pear', 'orange', 'fruit', 'fruit', 'fruit', 'fruit']\n",
      "['apple', 'pear', 'orange', 'fruit', 'fruit', 'fruit', 'fruit', 'fruit']\n",
      "['apple', 'pear', 'orange', 'fruit', 'fruit', 'fruit', 'fruit', 'fruit', 'fruit']\n",
      "['apple', 'pear', 'orange', 'fruit', 'fruit', 'fruit', 'fruit', 'fruit', 'fruit', 'fruit']\n"
     ]
    }
   ],
   "source": [
    "for x in range (0,4): \n",
    "    beta_list += [\"fruit\"] \n",
    "    print(beta_list)"
   ]
  },
  {
   "cell_type": "markdown",
   "metadata": {},
   "source": [
    "### Copy a List \n",
    "\n",
    "use the copy() function to replicate data "
   ]
  },
  {
   "cell_type": "code",
   "execution_count": 27,
   "metadata": {},
   "outputs": [
    {
     "name": "stdout",
     "output_type": "stream",
     "text": [
      "['apple', 'banana', 'orange']\n"
     ]
    }
   ],
   "source": [
    "beta_list = [\"apple\",\"banana\",\"orange\"] \n",
    "beta_list = beta_list.copy()\n",
    "print(beta_list)"
   ]
  },
  {
   "cell_type": "markdown",
   "metadata": {},
   "source": [
    "or use list()"
   ]
  },
  {
   "cell_type": "code",
   "execution_count": 28,
   "metadata": {},
   "outputs": [
    {
     "name": "stdout",
     "output_type": "stream",
     "text": [
      "['apple', 'banana', 'orange']\n"
     ]
    }
   ],
   "source": [
    "beta_list = [\"apple\",\"banana\",\"orange\"] \n",
    "beta_list = list(beta_list)\n",
    "print(beta_list)"
   ]
  }
 ],
 "metadata": {
  "kernelspec": {
   "display_name": "Python 3.9.13 ('base')",
   "language": "python",
   "name": "python3"
  },
  "language_info": {
   "codemirror_mode": {
    "name": "ipython",
    "version": 3
   },
   "file_extension": ".py",
   "mimetype": "text/x-python",
   "name": "python",
   "nbconvert_exporter": "python",
   "pygments_lexer": "ipython3",
   "version": "3.9.13"
  },
  "orig_nbformat": 4,
  "vscode": {
   "interpreter": {
    "hash": "7c9459ed114c5b17f42de1a9d08fe33e74f39cfbcb6ece8051ae4de86a3c1d74"
   }
  }
 },
 "nbformat": 4,
 "nbformat_minor": 2
}
